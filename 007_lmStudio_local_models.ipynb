{
 "cells": [
  {
   "cell_type": "code",
   "execution_count": 4,
   "id": "8d57ed01-266b-454a-aaae-3ee288a75de8",
   "metadata": {},
   "outputs": [
    {
     "name": "stdout",
     "output_type": "stream",
     "text": [
      "Overwriting llm_app.py\n"
     ]
    }
   ],
   "source": [
    "%%writefile llm_app.py\n",
    "\n",
    "# Example: reuse your existing OpenAI setup\n",
    "\n",
    "from openai import OpenAI\n",
    "\n",
    "# Point to the local server\n",
    "client = OpenAI(base_url=\"http://localhost:1234/v1\", api_key=\"not-needed\")\n",
    "\n",
    "\n",
    "\n",
    "def chat_with_llm(prompt):\n",
    "\n",
    "    response = client.chat.completions.create(\n",
    "        model = \"gpt-4-0613\",\n",
    "        messages = [{\"role\": \"user\", \"content\": prompt}],\n",
    "    )\n",
    "\n",
    "    return response.choices[0].message.content.strip()\n",
    "\n",
    "\n",
    "if __name__ == \"__main__\":\n",
    "    while True:\n",
    "        user_input = input(\"User: \")\n",
    "\n",
    "        if user_input.lower() in [\"quit\", \"exit\", \"goodbye\", \"bye\"]:\n",
    "            break\n",
    "\n",
    "        response = chat_with_llm(user_input)\n",
    "\n",
    "        print(\"Chatbot: \", response)\n",
    "\n"
   ]
  },
  {
   "cell_type": "code",
   "execution_count": 1,
   "id": "01cfc085-a707-48f3-803b-d437d25e2807",
   "metadata": {},
   "outputs": [],
   "source": [
    "import llm_app"
   ]
  },
  {
   "cell_type": "code",
   "execution_count": 2,
   "id": "6b6edea1-081e-463f-86a7-ae8499991a3d",
   "metadata": {},
   "outputs": [
    {
     "name": "stdin",
     "output_type": "stream",
     "text": [
      "User:  hello\n"
     ]
    },
    {
     "name": "stdout",
     "output_type": "stream",
     "text": [
      "Chatbot:  Hello! How can I assist you today?\n"
     ]
    },
    {
     "name": "stdin",
     "output_type": "stream",
     "text": [
      "User:  Tell me about Ricky Macharm\n"
     ]
    },
    {
     "name": "stdout",
     "output_type": "stream",
     "text": [
      "Chatbot:  Ricky Macharm is a professional wrestler from the Philippines, known for his work in various independent promotions in both the country and abroad. He is a member of the team \"The Beer Drinkers\" alongside his brother Edgar Macharm. They are often seen drinking beer together before matches, earning them their nickname. Ricky Macharm made his debut in 2017 and has since become known for his hard-hitting style and aggressive in-ring presence. He is also known for his impressive strength and athleticism, as well as his ability to work well with other wrestlers.\n"
     ]
    },
    {
     "name": "stdin",
     "output_type": "stream",
     "text": [
      "User:  goodbye\n"
     ]
    }
   ],
   "source": [
    "%run llm_app"
   ]
  },
  {
   "cell_type": "code",
   "execution_count": 3,
   "id": "50cf8da1-205d-4973-9d57-fe02f214286e",
   "metadata": {},
   "outputs": [
    {
     "name": "stdout",
     "output_type": "stream",
     "text": [
      "Chatbot: The capital city of Lagos State, Nigeria is Lagos.\n"
     ]
    }
   ],
   "source": [
    "response = llm_app.chat_with_llm(\"What is the capital of Lagos\")\n",
    "print(\"Chatbot:\", response)"
   ]
  },
  {
   "cell_type": "code",
   "execution_count": null,
   "id": "14b7d942-6902-4af6-9916-9578f6fa7be6",
   "metadata": {},
   "outputs": [],
   "source": []
  }
 ],
 "metadata": {
  "kernelspec": {
   "display_name": "Python 3 (ipykernel)",
   "language": "python",
   "name": "python3"
  },
  "language_info": {
   "codemirror_mode": {
    "name": "ipython",
    "version": 3
   },
   "file_extension": ".py",
   "mimetype": "text/x-python",
   "name": "python",
   "nbconvert_exporter": "python",
   "pygments_lexer": "ipython3",
   "version": "3.11.7"
  }
 },
 "nbformat": 4,
 "nbformat_minor": 5
}
